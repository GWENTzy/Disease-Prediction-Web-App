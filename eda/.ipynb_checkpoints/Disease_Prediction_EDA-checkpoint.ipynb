{
 "cells": [
  {
   "cell_type": "markdown",
   "metadata": {
    "id": "r6bMNHdBmeAl"
   },
   "source": [
    "**EXPLORATORY DATA ANALYSIS MAIN DATASET**"
   ]
  },
  {
   "cell_type": "code",
   "execution_count": 19,
   "metadata": {
    "id": "JXLJ5aQvI0dK"
   },
   "outputs": [],
   "source": [
    "import pandas as pd\n",
    "import numpy as np\n",
    "import matplotlib.pyplot as plt\n",
    "import seaborn as sns"
   ]
  },
  {
   "cell_type": "code",
   "execution_count": 20,
   "metadata": {
    "colab": {
     "base_uri": "https://localhost:8080/",
     "height": 357
    },
    "id": "ti5sL6NQDugv",
    "outputId": "66a219c6-f500-4bc5-dcfa-146161094c9c"
   },
   "outputs": [
    {
     "data": {
      "text/html": [
       "<div>\n",
       "<style scoped>\n",
       "    .dataframe tbody tr th:only-of-type {\n",
       "        vertical-align: middle;\n",
       "    }\n",
       "\n",
       "    .dataframe tbody tr th {\n",
       "        vertical-align: top;\n",
       "    }\n",
       "\n",
       "    .dataframe thead th {\n",
       "        text-align: right;\n",
       "    }\n",
       "</style>\n",
       "<table border=\"1\" class=\"dataframe\">\n",
       "  <thead>\n",
       "    <tr style=\"text-align: right;\">\n",
       "      <th></th>\n",
       "      <th>Disease</th>\n",
       "      <th>Symptom_1</th>\n",
       "      <th>Symptom_2</th>\n",
       "      <th>Symptom_3</th>\n",
       "      <th>Symptom_4</th>\n",
       "      <th>Symptom_5</th>\n",
       "      <th>Symptom_6</th>\n",
       "      <th>Symptom_7</th>\n",
       "      <th>Symptom_8</th>\n",
       "      <th>Symptom_9</th>\n",
       "      <th>Symptom_10</th>\n",
       "      <th>Symptom_11</th>\n",
       "      <th>Symptom_12</th>\n",
       "      <th>Symptom_13</th>\n",
       "      <th>Symptom_14</th>\n",
       "      <th>Symptom_15</th>\n",
       "      <th>Symptom_16</th>\n",
       "      <th>Symptom_17</th>\n",
       "    </tr>\n",
       "  </thead>\n",
       "  <tbody>\n",
       "    <tr>\n",
       "      <th>0</th>\n",
       "      <td>Fungal infection</td>\n",
       "      <td>itching</td>\n",
       "      <td>skin_rash</td>\n",
       "      <td>nodal_skin_eruptions</td>\n",
       "      <td>dischromic _patches</td>\n",
       "      <td>NaN</td>\n",
       "      <td>NaN</td>\n",
       "      <td>NaN</td>\n",
       "      <td>NaN</td>\n",
       "      <td>NaN</td>\n",
       "      <td>NaN</td>\n",
       "      <td>NaN</td>\n",
       "      <td>NaN</td>\n",
       "      <td>NaN</td>\n",
       "      <td>NaN</td>\n",
       "      <td>NaN</td>\n",
       "      <td>NaN</td>\n",
       "      <td>NaN</td>\n",
       "    </tr>\n",
       "    <tr>\n",
       "      <th>1</th>\n",
       "      <td>Fungal infection</td>\n",
       "      <td>skin_rash</td>\n",
       "      <td>nodal_skin_eruptions</td>\n",
       "      <td>dischromic _patches</td>\n",
       "      <td>NaN</td>\n",
       "      <td>NaN</td>\n",
       "      <td>NaN</td>\n",
       "      <td>NaN</td>\n",
       "      <td>NaN</td>\n",
       "      <td>NaN</td>\n",
       "      <td>NaN</td>\n",
       "      <td>NaN</td>\n",
       "      <td>NaN</td>\n",
       "      <td>NaN</td>\n",
       "      <td>NaN</td>\n",
       "      <td>NaN</td>\n",
       "      <td>NaN</td>\n",
       "      <td>NaN</td>\n",
       "    </tr>\n",
       "    <tr>\n",
       "      <th>2</th>\n",
       "      <td>Fungal infection</td>\n",
       "      <td>itching</td>\n",
       "      <td>nodal_skin_eruptions</td>\n",
       "      <td>dischromic _patches</td>\n",
       "      <td>NaN</td>\n",
       "      <td>NaN</td>\n",
       "      <td>NaN</td>\n",
       "      <td>NaN</td>\n",
       "      <td>NaN</td>\n",
       "      <td>NaN</td>\n",
       "      <td>NaN</td>\n",
       "      <td>NaN</td>\n",
       "      <td>NaN</td>\n",
       "      <td>NaN</td>\n",
       "      <td>NaN</td>\n",
       "      <td>NaN</td>\n",
       "      <td>NaN</td>\n",
       "      <td>NaN</td>\n",
       "    </tr>\n",
       "    <tr>\n",
       "      <th>3</th>\n",
       "      <td>Fungal infection</td>\n",
       "      <td>itching</td>\n",
       "      <td>skin_rash</td>\n",
       "      <td>dischromic _patches</td>\n",
       "      <td>NaN</td>\n",
       "      <td>NaN</td>\n",
       "      <td>NaN</td>\n",
       "      <td>NaN</td>\n",
       "      <td>NaN</td>\n",
       "      <td>NaN</td>\n",
       "      <td>NaN</td>\n",
       "      <td>NaN</td>\n",
       "      <td>NaN</td>\n",
       "      <td>NaN</td>\n",
       "      <td>NaN</td>\n",
       "      <td>NaN</td>\n",
       "      <td>NaN</td>\n",
       "      <td>NaN</td>\n",
       "    </tr>\n",
       "    <tr>\n",
       "      <th>4</th>\n",
       "      <td>Fungal infection</td>\n",
       "      <td>itching</td>\n",
       "      <td>skin_rash</td>\n",
       "      <td>nodal_skin_eruptions</td>\n",
       "      <td>NaN</td>\n",
       "      <td>NaN</td>\n",
       "      <td>NaN</td>\n",
       "      <td>NaN</td>\n",
       "      <td>NaN</td>\n",
       "      <td>NaN</td>\n",
       "      <td>NaN</td>\n",
       "      <td>NaN</td>\n",
       "      <td>NaN</td>\n",
       "      <td>NaN</td>\n",
       "      <td>NaN</td>\n",
       "      <td>NaN</td>\n",
       "      <td>NaN</td>\n",
       "      <td>NaN</td>\n",
       "    </tr>\n",
       "  </tbody>\n",
       "</table>\n",
       "</div>"
      ],
      "text/plain": [
       "            Disease   Symptom_1              Symptom_2              Symptom_3  \\\n",
       "0  Fungal infection     itching              skin_rash   nodal_skin_eruptions   \n",
       "1  Fungal infection   skin_rash   nodal_skin_eruptions    dischromic _patches   \n",
       "2  Fungal infection     itching   nodal_skin_eruptions    dischromic _patches   \n",
       "3  Fungal infection     itching              skin_rash    dischromic _patches   \n",
       "4  Fungal infection     itching              skin_rash   nodal_skin_eruptions   \n",
       "\n",
       "              Symptom_4 Symptom_5 Symptom_6 Symptom_7 Symptom_8 Symptom_9  \\\n",
       "0   dischromic _patches       NaN       NaN       NaN       NaN       NaN   \n",
       "1                   NaN       NaN       NaN       NaN       NaN       NaN   \n",
       "2                   NaN       NaN       NaN       NaN       NaN       NaN   \n",
       "3                   NaN       NaN       NaN       NaN       NaN       NaN   \n",
       "4                   NaN       NaN       NaN       NaN       NaN       NaN   \n",
       "\n",
       "  Symptom_10 Symptom_11 Symptom_12 Symptom_13 Symptom_14 Symptom_15  \\\n",
       "0        NaN        NaN        NaN        NaN        NaN        NaN   \n",
       "1        NaN        NaN        NaN        NaN        NaN        NaN   \n",
       "2        NaN        NaN        NaN        NaN        NaN        NaN   \n",
       "3        NaN        NaN        NaN        NaN        NaN        NaN   \n",
       "4        NaN        NaN        NaN        NaN        NaN        NaN   \n",
       "\n",
       "  Symptom_16 Symptom_17  \n",
       "0        NaN        NaN  \n",
       "1        NaN        NaN  \n",
       "2        NaN        NaN  \n",
       "3        NaN        NaN  \n",
       "4        NaN        NaN  "
      ]
     },
     "execution_count": 20,
     "metadata": {},
     "output_type": "execute_result"
    }
   ],
   "source": [
    "df = pd.read_csv('../data/dataset.csv')\n",
    "\n",
    "df.head()"
   ]
  },
  {
   "cell_type": "code",
   "execution_count": 21,
   "metadata": {
    "colab": {
     "base_uri": "https://localhost:8080/"
    },
    "id": "xyZ84m_BTA9i",
    "outputId": "e09474fe-bbd3-4df4-e6cf-d6295b7c87b6"
   },
   "outputs": [
    {
     "name": "stdout",
     "output_type": "stream",
     "text": [
      "<class 'pandas.core.frame.DataFrame'>\n",
      "RangeIndex: 4920 entries, 0 to 4919\n",
      "Data columns (total 18 columns):\n",
      " #   Column      Non-Null Count  Dtype \n",
      "---  ------      --------------  ----- \n",
      " 0   Disease     4920 non-null   object\n",
      " 1   Symptom_1   4920 non-null   object\n",
      " 2   Symptom_2   4920 non-null   object\n",
      " 3   Symptom_3   4920 non-null   object\n",
      " 4   Symptom_4   4572 non-null   object\n",
      " 5   Symptom_5   3714 non-null   object\n",
      " 6   Symptom_6   2934 non-null   object\n",
      " 7   Symptom_7   2268 non-null   object\n",
      " 8   Symptom_8   1944 non-null   object\n",
      " 9   Symptom_9   1692 non-null   object\n",
      " 10  Symptom_10  1512 non-null   object\n",
      " 11  Symptom_11  1194 non-null   object\n",
      " 12  Symptom_12  744 non-null    object\n",
      " 13  Symptom_13  504 non-null    object\n",
      " 14  Symptom_14  306 non-null    object\n",
      " 15  Symptom_15  240 non-null    object\n",
      " 16  Symptom_16  192 non-null    object\n",
      " 17  Symptom_17  72 non-null     object\n",
      "dtypes: object(18)\n",
      "memory usage: 692.0+ KB\n"
     ]
    }
   ],
   "source": [
    "df.info()"
   ]
  },
  {
   "cell_type": "markdown",
   "metadata": {
    "id": "MrdTg-LeE2lp"
   },
   "source": [
    "**Disease EDA**"
   ]
  },
  {
   "cell_type": "code",
   "execution_count": 24,
   "metadata": {
    "colab": {
     "base_uri": "https://localhost:8080/"
    },
    "id": "7ORf01bHoDb7",
    "outputId": "fac0bc76-2aa5-4250-de71-25323dcc0021"
   },
   "outputs": [
    {
     "data": {
      "text/plain": [
       "41"
      ]
     },
     "execution_count": 24,
     "metadata": {},
     "output_type": "execute_result"
    }
   ],
   "source": [
    "#Many types of disease in the dataset\n",
    "df['Disease'].nunique()"
   ]
  },
  {
   "cell_type": "code",
   "execution_count": 22,
   "metadata": {
    "colab": {
     "base_uri": "https://localhost:8080/"
    },
    "id": "nFbchfrV15MA",
    "outputId": "cf2abe4f-ad26-4d63-e083-69f58c4b6369"
   },
   "outputs": [
    {
     "data": {
      "text/plain": [
       "Fungal infection                           120\n",
       "Hepatitis C                                120\n",
       "Hepatitis E                                120\n",
       "Alcoholic hepatitis                        120\n",
       "Tuberculosis                               120\n",
       "Common Cold                                120\n",
       "Pneumonia                                  120\n",
       "Dimorphic hemmorhoids(piles)               120\n",
       "Heart attack                               120\n",
       "Varicose veins                             120\n",
       "Hypothyroidism                             120\n",
       "Hyperthyroidism                            120\n",
       "Hypoglycemia                               120\n",
       "Osteoarthristis                            120\n",
       "Arthritis                                  120\n",
       "(vertigo) Paroymsal  Positional Vertigo    120\n",
       "Acne                                       120\n",
       "Urinary tract infection                    120\n",
       "Psoriasis                                  120\n",
       "Hepatitis D                                120\n",
       "Hepatitis B                                120\n",
       "Allergy                                    120\n",
       "hepatitis A                                120\n",
       "GERD                                       120\n",
       "Chronic cholestasis                        120\n",
       "Drug Reaction                              120\n",
       "Peptic ulcer diseae                        120\n",
       "AIDS                                       120\n",
       "Diabetes                                   120\n",
       "Gastroenteritis                            120\n",
       "Bronchial Asthma                           120\n",
       "Hypertension                               120\n",
       "Migraine                                   120\n",
       "Cervical spondylosis                       120\n",
       "Paralysis (brain hemorrhage)               120\n",
       "Jaundice                                   120\n",
       "Malaria                                    120\n",
       "Chicken pox                                120\n",
       "Dengue                                     120\n",
       "Typhoid                                    120\n",
       "Impetigo                                   120\n",
       "Name: Disease, dtype: int64"
      ]
     },
     "execution_count": 22,
     "metadata": {},
     "output_type": "execute_result"
    }
   ],
   "source": [
    "df['Disease'].value_counts()"
   ]
  },
  {
   "cell_type": "code",
   "execution_count": 23,
   "metadata": {
    "colab": {
     "base_uri": "https://localhost:8080/",
     "height": 625
    },
    "id": "bsdZbCA9TLrk",
    "outputId": "c42a7dc7-477e-4ae9-c1a2-548c2b44562c"
   },
   "outputs": [
    {
     "data": {
      "image/png": "[encoded data removed]",
      "text/plain": [
       "<Figure size 720x504 with 1 Axes>"
      ]
     },
     "metadata": {
      "needs_background": "light"
     },
     "output_type": "display_data"
    }
   ],
   "source": [
    "plt.figure(figsize=(10,7))\n",
    "chart = sns.barplot(x=df['Disease'].unique(), y=df['Disease'].value_counts(sort = False), data=df, palette='pastel')\n",
    "plt.xticks(rotation=90)\n",
    "plt.tick_params(axis='x', which='major', labelsize=10)\n",
    "chart.set(ylabel='Count')\n",
    "chart.set_title('Disease Count Each Category')\n",
    "plt.show()"
   ]
  },
  {
   "cell_type": "markdown",
   "metadata": {
    "id": "ORAQ00MKEUXj"
   },
   "source": [
    "**Symptoms EDA**"
   ]
  },
  {
   "cell_type": "code",
   "execution_count": 25,
   "metadata": {
    "colab": {
     "base_uri": "https://localhost:8080/",
     "height": 488
    },
    "id": "W6p88uZfA_uy",
    "outputId": "a0651397-c8f5-4960-ca41-f1e7e7b2336f"
   },
   "outputs": [
    {
     "data": {
      "text/html": [
       "<div>\n",
       "<style scoped>\n",
       "    .dataframe tbody tr th:only-of-type {\n",
       "        vertical-align: middle;\n",
       "    }\n",
       "\n",
       "    .dataframe tbody tr th {\n",
       "        vertical-align: top;\n",
       "    }\n",
       "\n",
       "    .dataframe thead th {\n",
       "        text-align: right;\n",
       "    }\n",
       "</style>\n",
       "<table border=\"1\" class=\"dataframe\">\n",
       "  <thead>\n",
       "    <tr style=\"text-align: right;\">\n",
       "      <th></th>\n",
       "      <th>Symptom_1</th>\n",
       "      <th>Symptom_2</th>\n",
       "      <th>Symptom_3</th>\n",
       "      <th>Symptom_4</th>\n",
       "      <th>Symptom_5</th>\n",
       "      <th>Symptom_6</th>\n",
       "      <th>Symptom_7</th>\n",
       "      <th>Symptom_8</th>\n",
       "      <th>Symptom_9</th>\n",
       "      <th>Symptom_10</th>\n",
       "      <th>Symptom_11</th>\n",
       "      <th>Symptom_12</th>\n",
       "      <th>Symptom_13</th>\n",
       "      <th>Symptom_14</th>\n",
       "      <th>Symptom_15</th>\n",
       "      <th>Symptom_16</th>\n",
       "      <th>Symptom_17</th>\n",
       "    </tr>\n",
       "  </thead>\n",
       "  <tbody>\n",
       "    <tr>\n",
       "      <th>0</th>\n",
       "      <td>itching</td>\n",
       "      <td>skin_rash</td>\n",
       "      <td>nodal_skin_eruptions</td>\n",
       "      <td>dischromic _patches</td>\n",
       "      <td>NaN</td>\n",
       "      <td>NaN</td>\n",
       "      <td>NaN</td>\n",
       "      <td>NaN</td>\n",
       "      <td>NaN</td>\n",
       "      <td>NaN</td>\n",
       "      <td>NaN</td>\n",
       "      <td>NaN</td>\n",
       "      <td>NaN</td>\n",
       "      <td>NaN</td>\n",
       "      <td>NaN</td>\n",
       "      <td>NaN</td>\n",
       "      <td>NaN</td>\n",
       "    </tr>\n",
       "    <tr>\n",
       "      <th>1</th>\n",
       "      <td>skin_rash</td>\n",
       "      <td>nodal_skin_eruptions</td>\n",
       "      <td>dischromic _patches</td>\n",
       "      <td>NaN</td>\n",
       "      <td>NaN</td>\n",
       "      <td>NaN</td>\n",
       "      <td>NaN</td>\n",
       "      <td>NaN</td>\n",
       "      <td>NaN</td>\n",
       "      <td>NaN</td>\n",
       "      <td>NaN</td>\n",
       "      <td>NaN</td>\n",
       "      <td>NaN</td>\n",
       "      <td>NaN</td>\n",
       "      <td>NaN</td>\n",
       "      <td>NaN</td>\n",
       "      <td>NaN</td>\n",
       "    </tr>\n",
       "    <tr>\n",
       "      <th>2</th>\n",
       "      <td>itching</td>\n",
       "      <td>nodal_skin_eruptions</td>\n",
       "      <td>dischromic _patches</td>\n",
       "      <td>NaN</td>\n",
       "      <td>NaN</td>\n",
       "      <td>NaN</td>\n",
       "      <td>NaN</td>\n",
       "      <td>NaN</td>\n",
       "      <td>NaN</td>\n",
       "      <td>NaN</td>\n",
       "      <td>NaN</td>\n",
       "      <td>NaN</td>\n",
       "      <td>NaN</td>\n",
       "      <td>NaN</td>\n",
       "      <td>NaN</td>\n",
       "      <td>NaN</td>\n",
       "      <td>NaN</td>\n",
       "    </tr>\n",
       "    <tr>\n",
       "      <th>3</th>\n",
       "      <td>itching</td>\n",
       "      <td>skin_rash</td>\n",
       "      <td>dischromic _patches</td>\n",
       "      <td>NaN</td>\n",
       "      <td>NaN</td>\n",
       "      <td>NaN</td>\n",
       "      <td>NaN</td>\n",
       "      <td>NaN</td>\n",
       "      <td>NaN</td>\n",
       "      <td>NaN</td>\n",
       "      <td>NaN</td>\n",
       "      <td>NaN</td>\n",
       "      <td>NaN</td>\n",
       "      <td>NaN</td>\n",
       "      <td>NaN</td>\n",
       "      <td>NaN</td>\n",
       "      <td>NaN</td>\n",
       "    </tr>\n",
       "    <tr>\n",
       "      <th>4</th>\n",
       "      <td>itching</td>\n",
       "      <td>skin_rash</td>\n",
       "      <td>nodal_skin_eruptions</td>\n",
       "      <td>NaN</td>\n",
       "      <td>NaN</td>\n",
       "      <td>NaN</td>\n",
       "      <td>NaN</td>\n",
       "      <td>NaN</td>\n",
       "      <td>NaN</td>\n",
       "      <td>NaN</td>\n",
       "      <td>NaN</td>\n",
       "      <td>NaN</td>\n",
       "      <td>NaN</td>\n",
       "      <td>NaN</td>\n",
       "      <td>NaN</td>\n",
       "      <td>NaN</td>\n",
       "      <td>NaN</td>\n",
       "    </tr>\n",
       "    <tr>\n",
       "      <th>...</th>\n",
       "      <td>...</td>\n",
       "      <td>...</td>\n",
       "      <td>...</td>\n",
       "      <td>...</td>\n",
       "      <td>...</td>\n",
       "      <td>...</td>\n",
       "      <td>...</td>\n",
       "      <td>...</td>\n",
       "      <td>...</td>\n",
       "      <td>...</td>\n",
       "      <td>...</td>\n",
       "      <td>...</td>\n",
       "      <td>...</td>\n",
       "      <td>...</td>\n",
       "      <td>...</td>\n",
       "      <td>...</td>\n",
       "      <td>...</td>\n",
       "    </tr>\n",
       "    <tr>\n",
       "      <th>4915</th>\n",
       "      <td>vomiting</td>\n",
       "      <td>headache</td>\n",
       "      <td>nausea</td>\n",
       "      <td>spinning_movements</td>\n",
       "      <td>loss_of_balance</td>\n",
       "      <td>unsteadiness</td>\n",
       "      <td>NaN</td>\n",
       "      <td>NaN</td>\n",
       "      <td>NaN</td>\n",
       "      <td>NaN</td>\n",
       "      <td>NaN</td>\n",
       "      <td>NaN</td>\n",
       "      <td>NaN</td>\n",
       "      <td>NaN</td>\n",
       "      <td>NaN</td>\n",
       "      <td>NaN</td>\n",
       "      <td>NaN</td>\n",
       "    </tr>\n",
       "    <tr>\n",
       "      <th>4916</th>\n",
       "      <td>skin_rash</td>\n",
       "      <td>pus_filled_pimples</td>\n",
       "      <td>blackheads</td>\n",
       "      <td>scurring</td>\n",
       "      <td>NaN</td>\n",
       "      <td>NaN</td>\n",
       "      <td>NaN</td>\n",
       "      <td>NaN</td>\n",
       "      <td>NaN</td>\n",
       "      <td>NaN</td>\n",
       "      <td>NaN</td>\n",
       "      <td>NaN</td>\n",
       "      <td>NaN</td>\n",
       "      <td>NaN</td>\n",
       "      <td>NaN</td>\n",
       "      <td>NaN</td>\n",
       "      <td>NaN</td>\n",
       "    </tr>\n",
       "    <tr>\n",
       "      <th>4917</th>\n",
       "      <td>burning_micturition</td>\n",
       "      <td>bladder_discomfort</td>\n",
       "      <td>foul_smell_of urine</td>\n",
       "      <td>continuous_feel_of_urine</td>\n",
       "      <td>NaN</td>\n",
       "      <td>NaN</td>\n",
       "      <td>NaN</td>\n",
       "      <td>NaN</td>\n",
       "      <td>NaN</td>\n",
       "      <td>NaN</td>\n",
       "      <td>NaN</td>\n",
       "      <td>NaN</td>\n",
       "      <td>NaN</td>\n",
       "      <td>NaN</td>\n",
       "      <td>NaN</td>\n",
       "      <td>NaN</td>\n",
       "      <td>NaN</td>\n",
       "    </tr>\n",
       "    <tr>\n",
       "      <th>4918</th>\n",
       "      <td>skin_rash</td>\n",
       "      <td>joint_pain</td>\n",
       "      <td>skin_peeling</td>\n",
       "      <td>silver_like_dusting</td>\n",
       "      <td>small_dents_in_nails</td>\n",
       "      <td>inflammatory_nails</td>\n",
       "      <td>NaN</td>\n",
       "      <td>NaN</td>\n",
       "      <td>NaN</td>\n",
       "      <td>NaN</td>\n",
       "      <td>NaN</td>\n",
       "      <td>NaN</td>\n",
       "      <td>NaN</td>\n",
       "      <td>NaN</td>\n",
       "      <td>NaN</td>\n",
       "      <td>NaN</td>\n",
       "      <td>NaN</td>\n",
       "    </tr>\n",
       "    <tr>\n",
       "      <th>4919</th>\n",
       "      <td>skin_rash</td>\n",
       "      <td>high_fever</td>\n",
       "      <td>blister</td>\n",
       "      <td>red_sore_around_nose</td>\n",
       "      <td>yellow_crust_ooze</td>\n",
       "      <td>NaN</td>\n",
       "      <td>NaN</td>\n",
       "      <td>NaN</td>\n",
       "      <td>NaN</td>\n",
       "      <td>NaN</td>\n",
       "      <td>NaN</td>\n",
       "      <td>NaN</td>\n",
       "      <td>NaN</td>\n",
       "      <td>NaN</td>\n",
       "      <td>NaN</td>\n",
       "      <td>NaN</td>\n",
       "      <td>NaN</td>\n",
       "    </tr>\n",
       "  </tbody>\n",
       "</table>\n",
       "<p>4920 rows × 17 columns</p>\n",
       "</div>"
      ],
      "text/plain": [
       "                 Symptom_1              Symptom_2              Symptom_3  \\\n",
       "0                  itching              skin_rash   nodal_skin_eruptions   \n",
       "1                skin_rash   nodal_skin_eruptions    dischromic _patches   \n",
       "2                  itching   nodal_skin_eruptions    dischromic _patches   \n",
       "3                  itching              skin_rash    dischromic _patches   \n",
       "4                  itching              skin_rash   nodal_skin_eruptions   \n",
       "...                    ...                    ...                    ...   \n",
       "4915              vomiting               headache                 nausea   \n",
       "4916             skin_rash     pus_filled_pimples             blackheads   \n",
       "4917   burning_micturition     bladder_discomfort    foul_smell_of urine   \n",
       "4918             skin_rash             joint_pain           skin_peeling   \n",
       "4919             skin_rash             high_fever                blister   \n",
       "\n",
       "                      Symptom_4              Symptom_5            Symptom_6  \\\n",
       "0           dischromic _patches                    NaN                  NaN   \n",
       "1                           NaN                    NaN                  NaN   \n",
       "2                           NaN                    NaN                  NaN   \n",
       "3                           NaN                    NaN                  NaN   \n",
       "4                           NaN                    NaN                  NaN   \n",
       "...                         ...                    ...                  ...   \n",
       "4915         spinning_movements        loss_of_balance         unsteadiness   \n",
       "4916                   scurring                    NaN                  NaN   \n",
       "4917   continuous_feel_of_urine                    NaN                  NaN   \n",
       "4918        silver_like_dusting   small_dents_in_nails   inflammatory_nails   \n",
       "4919       red_sore_around_nose      yellow_crust_ooze                  NaN   \n",
       "\n",
       "     Symptom_7 Symptom_8 Symptom_9 Symptom_10 Symptom_11 Symptom_12  \\\n",
       "0          NaN       NaN       NaN        NaN        NaN        NaN   \n",
       "1          NaN       NaN       NaN        NaN        NaN        NaN   \n",
       "2          NaN       NaN       NaN        NaN        NaN        NaN   \n",
       "3          NaN       NaN       NaN        NaN        NaN        NaN   \n",
       "4          NaN       NaN       NaN        NaN        NaN        NaN   \n",
       "...        ...       ...       ...        ...        ...        ...   \n",
       "4915       NaN       NaN       NaN        NaN        NaN        NaN   \n",
       "4916       NaN       NaN       NaN        NaN        NaN        NaN   \n",
       "4917       NaN       NaN       NaN        NaN        NaN        NaN   \n",
       "4918       NaN       NaN       NaN        NaN        NaN        NaN   \n",
       "4919       NaN       NaN       NaN        NaN        NaN        NaN   \n",
       "\n",
       "     Symptom_13 Symptom_14 Symptom_15 Symptom_16 Symptom_17  \n",
       "0           NaN        NaN        NaN        NaN        NaN  \n",
       "1           NaN        NaN        NaN        NaN        NaN  \n",
       "2           NaN        NaN        NaN        NaN        NaN  \n",
       "3           NaN        NaN        NaN        NaN        NaN  \n",
       "4           NaN        NaN        NaN        NaN        NaN  \n",
       "...         ...        ...        ...        ...        ...  \n",
       "4915        NaN        NaN        NaN        NaN        NaN  \n",
       "4916        NaN        NaN        NaN        NaN        NaN  \n",
       "4917        NaN        NaN        NaN        NaN        NaN  \n",
       "4918        NaN        NaN        NaN        NaN        NaN  \n",
       "4919        NaN        NaN        NaN        NaN        NaN  \n",
       "\n",
       "[4920 rows x 17 columns]"
      ]
     },
     "execution_count": 25,
     "metadata": {},
     "output_type": "execute_result"
    }
   ],
   "source": [
    "symptoms = df.iloc[:, 1:18]\n",
    "symptoms"
   ]
  },
  {
   "cell_type": "code",
   "execution_count": 26,
   "metadata": {
    "id": "btz0_yZpC3Oh"
   },
   "outputs": [],
   "source": [
    "x = symptoms.columns.values"
   ]
  },
  {
   "cell_type": "code",
   "execution_count": 27,
   "metadata": {
    "colab": {
     "base_uri": "https://localhost:8080/"
    },
    "id": "JO3BFLikDcnV",
    "outputId": "71af17cc-88b0-404f-a1ba-245bcb4177c9"
   },
   "outputs": [
    {
     "data": {
      "text/plain": [
       "array(['Symptom_1', 'Symptom_2', 'Symptom_3', 'Symptom_4', 'Symptom_5',\n",
       "       'Symptom_6', 'Symptom_7', 'Symptom_8', 'Symptom_9', 'Symptom_10',\n",
       "       'Symptom_11', 'Symptom_12', 'Symptom_13', 'Symptom_14',\n",
       "       'Symptom_15', 'Symptom_16', 'Symptom_17'], dtype=object)"
      ]
     },
     "execution_count": 27,
     "metadata": {},
     "output_type": "execute_result"
    }
   ],
   "source": [
    "x"
   ]
  },
  {
   "cell_type": "code",
   "execution_count": 28,
   "metadata": {
    "id": "qK_3xbS8Bp-V"
   },
   "outputs": [],
   "source": [
    "y = symptoms.isna().sum()"
   ]
  },
  {
   "cell_type": "code",
   "execution_count": 29,
   "metadata": {
    "colab": {
     "base_uri": "https://localhost:8080/"
    },
    "id": "lGDSJqulCwZb",
    "outputId": "48f5dcce-8aea-41de-d462-c9673a7ff187"
   },
   "outputs": [
    {
     "data": {
      "text/plain": [
       "Symptom_1        0\n",
       "Symptom_2        0\n",
       "Symptom_3        0\n",
       "Symptom_4      348\n",
       "Symptom_5     1206\n",
       "Symptom_6     1986\n",
       "Symptom_7     2652\n",
       "Symptom_8     2976\n",
       "Symptom_9     3228\n",
       "Symptom_10    3408\n",
       "Symptom_11    3726\n",
       "Symptom_12    4176\n",
       "Symptom_13    4416\n",
       "Symptom_14    4614\n",
       "Symptom_15    4680\n",
       "Symptom_16    4728\n",
       "Symptom_17    4848\n",
       "dtype: int64"
      ]
     },
     "execution_count": 29,
     "metadata": {},
     "output_type": "execute_result"
    }
   ],
   "source": [
    "y"
   ]
  },
  {
   "cell_type": "code",
   "execution_count": 30,
   "metadata": {
    "colab": {
     "base_uri": "https://localhost:8080/",
     "height": 554
    },
    "id": "E6v0pr_VCCbe",
    "outputId": "cb810993-c0e3-4698-d203-e1faeb1d937e"
   },
   "outputs": [
    {
     "data": {
      "image/png": "[encoded data removed]",
      "text/plain": [
       "<Figure size 576x576 with 1 Axes>"
      ]
     },
     "metadata": {
      "needs_background": "light"
     },
     "output_type": "display_data"
    }
   ],
   "source": [
    "plt.figure(figsize=(8,8))\n",
    "chart = sns.barplot(x=x, y=y, palette='pastel')\n",
    "# chart.axes.get_xaxis().set_visible(False)\n",
    "plt.xticks(rotation=90)\n",
    "plt.tick_params(axis='x', which='major', labelsize=10)\n",
    "chart.set(ylabel='Count')\n",
    "chart.set_title('Symptoms NaN Values Count')\n",
    "plt.show()"
   ]
  },
  {
   "cell_type": "markdown",
   "metadata": {
    "id": "EPaOZgrmwbP6"
   },
   "source": [
    "**Dataset 2 EDA**"
   ]
  },
  {
   "cell_type": "code",
   "execution_count": 31,
   "metadata": {
    "colab": {
     "base_uri": "https://localhost:8080/",
     "height": 206
    },
    "id": "j6JxHoOsvqNU",
    "outputId": "560ae088-1ccc-46c7-8424-1c17a3516122"
   },
   "outputs": [
    {
     "data": {
      "text/html": [
       "<div>\n",
       "<style scoped>\n",
       "    .dataframe tbody tr th:only-of-type {\n",
       "        vertical-align: middle;\n",
       "    }\n",
       "\n",
       "    .dataframe tbody tr th {\n",
       "        vertical-align: top;\n",
       "    }\n",
       "\n",
       "    .dataframe thead th {\n",
       "        text-align: right;\n",
       "    }\n",
       "</style>\n",
       "<table border=\"1\" class=\"dataframe\">\n",
       "  <thead>\n",
       "    <tr style=\"text-align: right;\">\n",
       "      <th></th>\n",
       "      <th>Symptom</th>\n",
       "      <th>weight</th>\n",
       "    </tr>\n",
       "  </thead>\n",
       "  <tbody>\n",
       "    <tr>\n",
       "      <th>0</th>\n",
       "      <td>itching</td>\n",
       "      <td>1</td>\n",
       "    </tr>\n",
       "    <tr>\n",
       "      <th>1</th>\n",
       "      <td>skin_rash</td>\n",
       "      <td>3</td>\n",
       "    </tr>\n",
       "    <tr>\n",
       "      <th>2</th>\n",
       "      <td>nodal_skin_eruptions</td>\n",
       "      <td>4</td>\n",
       "    </tr>\n",
       "    <tr>\n",
       "      <th>3</th>\n",
       "      <td>continuous_sneezing</td>\n",
       "      <td>4</td>\n",
       "    </tr>\n",
       "    <tr>\n",
       "      <th>4</th>\n",
       "      <td>shivering</td>\n",
       "      <td>5</td>\n",
       "    </tr>\n",
       "  </tbody>\n",
       "</table>\n",
       "</div>"
      ],
      "text/plain": [
       "                Symptom  weight\n",
       "0               itching       1\n",
       "1             skin_rash       3\n",
       "2  nodal_skin_eruptions       4\n",
       "3   continuous_sneezing       4\n",
       "4             shivering       5"
      ]
     },
     "execution_count": 31,
     "metadata": {},
     "output_type": "execute_result"
    }
   ],
   "source": [
    "df2 = pd.read_csv('../data/Symptom-severity.csv')\n",
    "\n",
    "df2.head()"
   ]
  },
  {
   "cell_type": "code",
   "execution_count": 32,
   "metadata": {
    "colab": {
     "base_uri": "https://localhost:8080/",
     "height": 300
    },
    "id": "w1wqMt8LwV1C",
    "outputId": "aa2be48d-2734-4d09-a10d-5c77cf207704"
   },
   "outputs": [
    {
     "data": {
      "text/html": [
       "<div>\n",
       "<style scoped>\n",
       "    .dataframe tbody tr th:only-of-type {\n",
       "        vertical-align: middle;\n",
       "    }\n",
       "\n",
       "    .dataframe tbody tr th {\n",
       "        vertical-align: top;\n",
       "    }\n",
       "\n",
       "    .dataframe thead th {\n",
       "        text-align: right;\n",
       "    }\n",
       "</style>\n",
       "<table border=\"1\" class=\"dataframe\">\n",
       "  <thead>\n",
       "    <tr style=\"text-align: right;\">\n",
       "      <th></th>\n",
       "      <th>weight</th>\n",
       "    </tr>\n",
       "  </thead>\n",
       "  <tbody>\n",
       "    <tr>\n",
       "      <th>count</th>\n",
       "      <td>133.000000</td>\n",
       "    </tr>\n",
       "    <tr>\n",
       "      <th>mean</th>\n",
       "      <td>4.225564</td>\n",
       "    </tr>\n",
       "    <tr>\n",
       "      <th>std</th>\n",
       "      <td>1.323543</td>\n",
       "    </tr>\n",
       "    <tr>\n",
       "      <th>min</th>\n",
       "      <td>1.000000</td>\n",
       "    </tr>\n",
       "    <tr>\n",
       "      <th>25%</th>\n",
       "      <td>3.000000</td>\n",
       "    </tr>\n",
       "    <tr>\n",
       "      <th>50%</th>\n",
       "      <td>4.000000</td>\n",
       "    </tr>\n",
       "    <tr>\n",
       "      <th>75%</th>\n",
       "      <td>5.000000</td>\n",
       "    </tr>\n",
       "    <tr>\n",
       "      <th>max</th>\n",
       "      <td>7.000000</td>\n",
       "    </tr>\n",
       "  </tbody>\n",
       "</table>\n",
       "</div>"
      ],
      "text/plain": [
       "           weight\n",
       "count  133.000000\n",
       "mean     4.225564\n",
       "std      1.323543\n",
       "min      1.000000\n",
       "25%      3.000000\n",
       "50%      4.000000\n",
       "75%      5.000000\n",
       "max      7.000000"
      ]
     },
     "execution_count": 32,
     "metadata": {},
     "output_type": "execute_result"
    }
   ],
   "source": [
    "df2.describe()"
   ]
  },
  {
   "cell_type": "code",
   "execution_count": 33,
   "metadata": {
    "colab": {
     "base_uri": "https://localhost:8080/"
    },
    "id": "OPGY8d4Xy2dv",
    "outputId": "0aec842a-7498-483f-84bd-aa852efab142"
   },
   "outputs": [
    {
     "data": {
      "text/plain": [
       "fluid_overload          2\n",
       "itching                 1\n",
       "spinning_movements      1\n",
       "muscle_pain             1\n",
       "irritability            1\n",
       "                       ..\n",
       "constipation            1\n",
       "back_pain               1\n",
       "pain_behind_the_eyes    1\n",
       "loss_of_appetite        1\n",
       "prognosis               1\n",
       "Name: Symptom, Length: 132, dtype: int64"
      ]
     },
     "execution_count": 33,
     "metadata": {},
     "output_type": "execute_result"
    }
   ],
   "source": [
    "df2['Symptom'].value_counts(sort=True)"
   ]
  },
  {
   "cell_type": "code",
   "execution_count": 34,
   "metadata": {
    "colab": {
     "base_uri": "https://localhost:8080/",
     "height": 458
    },
    "id": "YFHXUpDJyIxD",
    "outputId": "224e5004-ebc0-4f3e-bd8d-c2821b3797c4"
   },
   "outputs": [
    {
     "data": {
      "image/png": "[encoded data removed]",
      "text/plain": [
       "<Figure size 1728x576 with 1 Axes>"
      ]
     },
     "metadata": {
      "needs_background": "light"
     },
     "output_type": "display_data"
    }
   ],
   "source": [
    "plt.figure(figsize=(24,8))\n",
    "chart = sns.barplot(x=df2['Symptom'], y=df2['weight'], data=df2, order=df2.sort_values('weight').Symptom, palette='pastel')\n",
    "plt.xticks(rotation=90)\n",
    "plt.tick_params(axis='x', which='major', labelsize=10)\n",
    "chart.set(ylabel='Weight')\n",
    "chart.set_title('Symptoms Weight')\n",
    "plt.show()"
   ]
  },
  {
   "cell_type": "code",
   "execution_count": 35,
   "metadata": {
    "colab": {
     "base_uri": "https://localhost:8080/",
     "height": 268
    },
    "id": "PW73PGcewg2u",
    "outputId": "6632b5e1-f846-4249-d7aa-79547ea37533"
   },
   "outputs": [
    {
     "data": {
      "image/png": "[encoded data removed]",
      "text/plain": [
       "<Figure size 432x288 with 1 Axes>"
      ]
     },
     "metadata": {
      "needs_background": "light"
     },
     "output_type": "display_data"
    }
   ],
   "source": [
    "chart = sns.boxplot(x=df2['weight'], data=df2, palette='pastel')\n",
    "chart.set_title('Distribusi Kolom Weight pada Dataset 2')\n",
    "plt.show()"
   ]
  },
  {
   "cell_type": "code",
   "execution_count": 36,
   "metadata": {
    "colab": {
     "base_uri": "https://localhost:8080/",
     "height": 297
    },
    "id": "H5HGuzJo2175",
    "outputId": "1196eebe-fee6-4ce2-ac90-3ab5795ea603"
   },
   "outputs": [
    {
     "data": {
      "image/png": "[encoded data removed]",
      "text/plain": [
       "<Figure size 864x288 with 2 Axes>"
      ]
     },
     "metadata": {
      "needs_background": "light"
     },
     "output_type": "display_data"
    }
   ],
   "source": [
    "plt.figure(figsize=(12,4))\n",
    "plt.subplot(1, 2, 1)\n",
    "sns.histplot(data=df2, x=\"weight\", kde = True, stat = \"probability\", discrete = True, palette='pastel')\n",
    "plt.subplot(1, 2, 2)\n",
    "sns.histplot(data=df2, x=\"weight\", kde = True, discrete = True)\n",
    "plt.tight_layout()\n",
    "plt.show()"
   ]
  },
  {
   "cell_type": "markdown",
   "metadata": {
    "id": "IawIt4GusQa0"
   },
   "source": [
    "**DATA CLEANING**"
   ]
  },
  {
   "cell_type": "code",
   "execution_count": 37,
   "metadata": {
    "colab": {
     "base_uri": "https://localhost:8080/",
     "height": 129
    },
    "id": "_taLJ_a1vLxV",
    "outputId": "8591dad9-ce7e-4787-e4b3-d82222df948c"
   },
   "outputs": [
    {
     "name": "stdout",
     "output_type": "stream",
     "text": [
      "(133, 2)\n"
     ]
    },
    {
     "data": {
      "text/html": [
       "<div>\n",
       "<style scoped>\n",
       "    .dataframe tbody tr th:only-of-type {\n",
       "        vertical-align: middle;\n",
       "    }\n",
       "\n",
       "    .dataframe tbody tr th {\n",
       "        vertical-align: top;\n",
       "    }\n",
       "\n",
       "    .dataframe thead th {\n",
       "        text-align: right;\n",
       "    }\n",
       "</style>\n",
       "<table border=\"1\" class=\"dataframe\">\n",
       "  <thead>\n",
       "    <tr style=\"text-align: right;\">\n",
       "      <th></th>\n",
       "      <th>Symptom</th>\n",
       "      <th>weight</th>\n",
       "    </tr>\n",
       "  </thead>\n",
       "  <tbody>\n",
       "    <tr>\n",
       "      <th>45</th>\n",
       "      <td>fluid_overload</td>\n",
       "      <td>6</td>\n",
       "    </tr>\n",
       "    <tr>\n",
       "      <th>117</th>\n",
       "      <td>fluid_overload</td>\n",
       "      <td>4</td>\n",
       "    </tr>\n",
       "  </tbody>\n",
       "</table>\n",
       "</div>"
      ],
      "text/plain": [
       "            Symptom  weight\n",
       "45   fluid_overload       6\n",
       "117  fluid_overload       4"
      ]
     },
     "execution_count": 37,
     "metadata": {},
     "output_type": "execute_result"
    }
   ],
   "source": [
    "print(df2.shape)\n",
    "df2[df2['Symptom'] == 'fluid_overload']"
   ]
  },
  {
   "cell_type": "code",
   "execution_count": 38,
   "metadata": {
    "id": "SD5DEFgjvS-w"
   },
   "outputs": [],
   "source": [
    "df2.drop(45, inplace=True)"
   ]
  },
  {
   "cell_type": "code",
   "execution_count": 39,
   "metadata": {
    "colab": {
     "base_uri": "https://localhost:8080/",
     "height": 98
    },
    "id": "t5TOPfnXvxnR",
    "outputId": "aad1df3e-cf58-42f4-cc76-aa1c45e905bb"
   },
   "outputs": [
    {
     "name": "stdout",
     "output_type": "stream",
     "text": [
      "(132, 2)\n"
     ]
    },
    {
     "data": {
      "text/html": [
       "<div>\n",
       "<style scoped>\n",
       "    .dataframe tbody tr th:only-of-type {\n",
       "        vertical-align: middle;\n",
       "    }\n",
       "\n",
       "    .dataframe tbody tr th {\n",
       "        vertical-align: top;\n",
       "    }\n",
       "\n",
       "    .dataframe thead th {\n",
       "        text-align: right;\n",
       "    }\n",
       "</style>\n",
       "<table border=\"1\" class=\"dataframe\">\n",
       "  <thead>\n",
       "    <tr style=\"text-align: right;\">\n",
       "      <th></th>\n",
       "      <th>Symptom</th>\n",
       "      <th>weight</th>\n",
       "    </tr>\n",
       "  </thead>\n",
       "  <tbody>\n",
       "    <tr>\n",
       "      <th>117</th>\n",
       "      <td>fluid_overload</td>\n",
       "      <td>4</td>\n",
       "    </tr>\n",
       "  </tbody>\n",
       "</table>\n",
       "</div>"
      ],
      "text/plain": [
       "            Symptom  weight\n",
       "117  fluid_overload       4"
      ]
     },
     "execution_count": 39,
     "metadata": {},
     "output_type": "execute_result"
    }
   ],
   "source": [
    "print(df2.shape)\n",
    "df2[df2['Symptom'] == 'fluid_overload']"
   ]
  },
  {
   "cell_type": "code",
   "execution_count": 40,
   "metadata": {
    "id": "OF5KNdkBHZFf"
   },
   "outputs": [],
   "source": [
    "for col in df:\n",
    "  df[col] = df[col].str.strip()"
   ]
  },
  {
   "cell_type": "code",
   "execution_count": 41,
   "metadata": {
    "id": "Qj6P_8pdGsfE"
   },
   "outputs": [],
   "source": [
    "df.fillna(0, inplace=True)"
   ]
  },
  {
   "cell_type": "markdown",
   "metadata": {
    "id": "C4eylIJXw-HA"
   },
   "source": [
    "**DATA TRANSFORM**"
   ]
  },
  {
   "cell_type": "code",
   "execution_count": 42,
   "metadata": {
    "id": "axGYPMM84EFl"
   },
   "outputs": [],
   "source": [
    "data1 = np.array(df.iloc[:, 1:18])\n",
    "data2 = np.array(df2.iloc[:, 0])\n",
    "weight = np.array(df2.iloc[:, 1])"
   ]
  },
  {
   "cell_type": "code",
   "execution_count": 43,
   "metadata": {
    "id": "kN8SVSkY4fD7"
   },
   "outputs": [],
   "source": [
    "for i in range(data1.shape[0]):\n",
    "  for j in range(data1.shape[1]):\n",
    "    for k in range(data2.size):\n",
    "      if data2[k] == data1[i][j]:\n",
    "        data1[i][j] = weight[k]\n",
    "        break"
   ]
  },
  {
   "cell_type": "code",
   "execution_count": 44,
   "metadata": {
    "colab": {
     "base_uri": "https://localhost:8080/"
    },
    "id": "pVAuQqHe7_T-",
    "outputId": "25aded61-c522-4d2e-97a0-b3f261145fed"
   },
   "outputs": [
    {
     "data": {
      "text/plain": [
       "array([[1, 3, 4, ..., 0, 0, 0],\n",
       "       [3, 4, 'dischromic _patches', ..., 0, 0, 0],\n",
       "       [1, 4, 'dischromic _patches', ..., 0, 0, 0],\n",
       "       ...,\n",
       "       [6, 4, 'foul_smell_of urine', ..., 0, 0, 0],\n",
       "       [3, 3, 3, ..., 0, 0, 0],\n",
       "       [3, 7, 4, ..., 0, 0, 0]], dtype=object)"
      ]
     },
     "execution_count": 44,
     "metadata": {},
     "output_type": "execute_result"
    }
   ],
   "source": [
    "data1"
   ]
  },
  {
   "cell_type": "code",
   "execution_count": 45,
   "metadata": {
    "colab": {
     "base_uri": "https://localhost:8080/"
    },
    "id": "NksT3OhiDzgD",
    "outputId": "8556d64c-2905-4e88-eb06-96374aa179e1"
   },
   "outputs": [
    {
     "data": {
      "text/plain": [
       "Index(['Disease', 'Symptom_1', 'Symptom_2', 'Symptom_3', 'Symptom_4',\n",
       "       'Symptom_5', 'Symptom_6', 'Symptom_7', 'Symptom_8', 'Symptom_9',\n",
       "       'Symptom_10', 'Symptom_11', 'Symptom_12', 'Symptom_13', 'Symptom_14',\n",
       "       'Symptom_15', 'Symptom_16', 'Symptom_17'],\n",
       "      dtype='object')"
      ]
     },
     "execution_count": 45,
     "metadata": {},
     "output_type": "execute_result"
    }
   ],
   "source": [
    "columns_name = df.columns.unique()\n",
    "columns_name"
   ]
  },
  {
   "cell_type": "code",
   "execution_count": 46,
   "metadata": {
    "colab": {
     "base_uri": "https://localhost:8080/",
     "height": 661
    },
    "id": "m-GBkXTnCWeC",
    "outputId": "1335053a-8c4e-4c70-bea7-04b5f5d8e3a2"
   },
   "outputs": [
    {
     "data": {
      "text/html": [
       "<div>\n",
       "<style scoped>\n",
       "    .dataframe tbody tr th:only-of-type {\n",
       "        vertical-align: middle;\n",
       "    }\n",
       "\n",
       "    .dataframe tbody tr th {\n",
       "        vertical-align: top;\n",
       "    }\n",
       "\n",
       "    .dataframe thead th {\n",
       "        text-align: right;\n",
       "    }\n",
       "</style>\n",
       "<table border=\"1\" class=\"dataframe\">\n",
       "  <thead>\n",
       "    <tr style=\"text-align: right;\">\n",
       "      <th></th>\n",
       "      <th>Disease</th>\n",
       "      <th>Symptom_1</th>\n",
       "      <th>Symptom_2</th>\n",
       "      <th>Symptom_3</th>\n",
       "      <th>Symptom_4</th>\n",
       "      <th>Symptom_5</th>\n",
       "      <th>Symptom_6</th>\n",
       "      <th>Symptom_7</th>\n",
       "      <th>Symptom_8</th>\n",
       "      <th>Symptom_9</th>\n",
       "      <th>Symptom_10</th>\n",
       "      <th>Symptom_11</th>\n",
       "      <th>Symptom_12</th>\n",
       "      <th>Symptom_13</th>\n",
       "      <th>Symptom_14</th>\n",
       "      <th>Symptom_15</th>\n",
       "      <th>Symptom_16</th>\n",
       "      <th>Symptom_17</th>\n",
       "    </tr>\n",
       "  </thead>\n",
       "  <tbody>\n",
       "    <tr>\n",
       "      <th>0</th>\n",
       "      <td>Fungal infection</td>\n",
       "      <td>1</td>\n",
       "      <td>3</td>\n",
       "      <td>4</td>\n",
       "      <td>dischromic _patches</td>\n",
       "      <td>0</td>\n",
       "      <td>0</td>\n",
       "      <td>0</td>\n",
       "      <td>0</td>\n",
       "      <td>0</td>\n",
       "      <td>0</td>\n",
       "      <td>0</td>\n",
       "      <td>0</td>\n",
       "      <td>0</td>\n",
       "      <td>0</td>\n",
       "      <td>0</td>\n",
       "      <td>0</td>\n",
       "      <td>0</td>\n",
       "    </tr>\n",
       "    <tr>\n",
       "      <th>1</th>\n",
       "      <td>Fungal infection</td>\n",
       "      <td>3</td>\n",
       "      <td>4</td>\n",
       "      <td>dischromic _patches</td>\n",
       "      <td>0</td>\n",
       "      <td>0</td>\n",
       "      <td>0</td>\n",
       "      <td>0</td>\n",
       "      <td>0</td>\n",
       "      <td>0</td>\n",
       "      <td>0</td>\n",
       "      <td>0</td>\n",
       "      <td>0</td>\n",
       "      <td>0</td>\n",
       "      <td>0</td>\n",
       "      <td>0</td>\n",
       "      <td>0</td>\n",
       "      <td>0</td>\n",
       "    </tr>\n",
       "    <tr>\n",
       "      <th>2</th>\n",
       "      <td>Fungal infection</td>\n",
       "      <td>1</td>\n",
       "      <td>4</td>\n",
       "      <td>dischromic _patches</td>\n",
       "      <td>0</td>\n",
       "      <td>0</td>\n",
       "      <td>0</td>\n",
       "      <td>0</td>\n",
       "      <td>0</td>\n",
       "      <td>0</td>\n",
       "      <td>0</td>\n",
       "      <td>0</td>\n",
       "      <td>0</td>\n",
       "      <td>0</td>\n",
       "      <td>0</td>\n",
       "      <td>0</td>\n",
       "      <td>0</td>\n",
       "      <td>0</td>\n",
       "    </tr>\n",
       "    <tr>\n",
       "      <th>3</th>\n",
       "      <td>Fungal infection</td>\n",
       "      <td>1</td>\n",
       "      <td>3</td>\n",
       "      <td>dischromic _patches</td>\n",
       "      <td>0</td>\n",
       "      <td>0</td>\n",
       "      <td>0</td>\n",
       "      <td>0</td>\n",
       "      <td>0</td>\n",
       "      <td>0</td>\n",
       "      <td>0</td>\n",
       "      <td>0</td>\n",
       "      <td>0</td>\n",
       "      <td>0</td>\n",
       "      <td>0</td>\n",
       "      <td>0</td>\n",
       "      <td>0</td>\n",
       "      <td>0</td>\n",
       "    </tr>\n",
       "    <tr>\n",
       "      <th>4</th>\n",
       "      <td>Fungal infection</td>\n",
       "      <td>1</td>\n",
       "      <td>3</td>\n",
       "      <td>4</td>\n",
       "      <td>0</td>\n",
       "      <td>0</td>\n",
       "      <td>0</td>\n",
       "      <td>0</td>\n",
       "      <td>0</td>\n",
       "      <td>0</td>\n",
       "      <td>0</td>\n",
       "      <td>0</td>\n",
       "      <td>0</td>\n",
       "      <td>0</td>\n",
       "      <td>0</td>\n",
       "      <td>0</td>\n",
       "      <td>0</td>\n",
       "      <td>0</td>\n",
       "    </tr>\n",
       "    <tr>\n",
       "      <th>...</th>\n",
       "      <td>...</td>\n",
       "      <td>...</td>\n",
       "      <td>...</td>\n",
       "      <td>...</td>\n",
       "      <td>...</td>\n",
       "      <td>...</td>\n",
       "      <td>...</td>\n",
       "      <td>...</td>\n",
       "      <td>...</td>\n",
       "      <td>...</td>\n",
       "      <td>...</td>\n",
       "      <td>...</td>\n",
       "      <td>...</td>\n",
       "      <td>...</td>\n",
       "      <td>...</td>\n",
       "      <td>...</td>\n",
       "      <td>...</td>\n",
       "      <td>...</td>\n",
       "    </tr>\n",
       "    <tr>\n",
       "      <th>4915</th>\n",
       "      <td>(vertigo) Paroymsal  Positional Vertigo</td>\n",
       "      <td>5</td>\n",
       "      <td>3</td>\n",
       "      <td>5</td>\n",
       "      <td>6</td>\n",
       "      <td>4</td>\n",
       "      <td>4</td>\n",
       "      <td>0</td>\n",
       "      <td>0</td>\n",
       "      <td>0</td>\n",
       "      <td>0</td>\n",
       "      <td>0</td>\n",
       "      <td>0</td>\n",
       "      <td>0</td>\n",
       "      <td>0</td>\n",
       "      <td>0</td>\n",
       "      <td>0</td>\n",
       "      <td>0</td>\n",
       "    </tr>\n",
       "    <tr>\n",
       "      <th>4916</th>\n",
       "      <td>Acne</td>\n",
       "      <td>3</td>\n",
       "      <td>2</td>\n",
       "      <td>2</td>\n",
       "      <td>2</td>\n",
       "      <td>0</td>\n",
       "      <td>0</td>\n",
       "      <td>0</td>\n",
       "      <td>0</td>\n",
       "      <td>0</td>\n",
       "      <td>0</td>\n",
       "      <td>0</td>\n",
       "      <td>0</td>\n",
       "      <td>0</td>\n",
       "      <td>0</td>\n",
       "      <td>0</td>\n",
       "      <td>0</td>\n",
       "      <td>0</td>\n",
       "    </tr>\n",
       "    <tr>\n",
       "      <th>4917</th>\n",
       "      <td>Urinary tract infection</td>\n",
       "      <td>6</td>\n",
       "      <td>4</td>\n",
       "      <td>foul_smell_of urine</td>\n",
       "      <td>6</td>\n",
       "      <td>0</td>\n",
       "      <td>0</td>\n",
       "      <td>0</td>\n",
       "      <td>0</td>\n",
       "      <td>0</td>\n",
       "      <td>0</td>\n",
       "      <td>0</td>\n",
       "      <td>0</td>\n",
       "      <td>0</td>\n",
       "      <td>0</td>\n",
       "      <td>0</td>\n",
       "      <td>0</td>\n",
       "      <td>0</td>\n",
       "    </tr>\n",
       "    <tr>\n",
       "      <th>4918</th>\n",
       "      <td>Psoriasis</td>\n",
       "      <td>3</td>\n",
       "      <td>3</td>\n",
       "      <td>3</td>\n",
       "      <td>2</td>\n",
       "      <td>2</td>\n",
       "      <td>2</td>\n",
       "      <td>0</td>\n",
       "      <td>0</td>\n",
       "      <td>0</td>\n",
       "      <td>0</td>\n",
       "      <td>0</td>\n",
       "      <td>0</td>\n",
       "      <td>0</td>\n",
       "      <td>0</td>\n",
       "      <td>0</td>\n",
       "      <td>0</td>\n",
       "      <td>0</td>\n",
       "    </tr>\n",
       "    <tr>\n",
       "      <th>4919</th>\n",
       "      <td>Impetigo</td>\n",
       "      <td>3</td>\n",
       "      <td>7</td>\n",
       "      <td>4</td>\n",
       "      <td>2</td>\n",
       "      <td>3</td>\n",
       "      <td>0</td>\n",
       "      <td>0</td>\n",
       "      <td>0</td>\n",
       "      <td>0</td>\n",
       "      <td>0</td>\n",
       "      <td>0</td>\n",
       "      <td>0</td>\n",
       "      <td>0</td>\n",
       "      <td>0</td>\n",
       "      <td>0</td>\n",
       "      <td>0</td>\n",
       "      <td>0</td>\n",
       "    </tr>\n",
       "  </tbody>\n",
       "</table>\n",
       "<p>4920 rows × 18 columns</p>\n",
       "</div>"
      ],
      "text/plain": [
       "                                      Disease Symptom_1 Symptom_2  \\\n",
       "0                            Fungal infection         1         3   \n",
       "1                            Fungal infection         3         4   \n",
       "2                            Fungal infection         1         4   \n",
       "3                            Fungal infection         1         3   \n",
       "4                            Fungal infection         1         3   \n",
       "...                                       ...       ...       ...   \n",
       "4915  (vertigo) Paroymsal  Positional Vertigo         5         3   \n",
       "4916                                     Acne         3         2   \n",
       "4917                  Urinary tract infection         6         4   \n",
       "4918                                Psoriasis         3         3   \n",
       "4919                                 Impetigo         3         7   \n",
       "\n",
       "                Symptom_3            Symptom_4 Symptom_5 Symptom_6 Symptom_7  \\\n",
       "0                       4  dischromic _patches         0         0         0   \n",
       "1     dischromic _patches                    0         0         0         0   \n",
       "2     dischromic _patches                    0         0         0         0   \n",
       "3     dischromic _patches                    0         0         0         0   \n",
       "4                       4                    0         0         0         0   \n",
       "...                   ...                  ...       ...       ...       ...   \n",
       "4915                    5                    6         4         4         0   \n",
       "4916                    2                    2         0         0         0   \n",
       "4917  foul_smell_of urine                    6         0         0         0   \n",
       "4918                    3                    2         2         2         0   \n",
       "4919                    4                    2         3         0         0   \n",
       "\n",
       "     Symptom_8 Symptom_9 Symptom_10 Symptom_11 Symptom_12 Symptom_13  \\\n",
       "0            0         0          0          0          0          0   \n",
       "1            0         0          0          0          0          0   \n",
       "2            0         0          0          0          0          0   \n",
       "3            0         0          0          0          0          0   \n",
       "4            0         0          0          0          0          0   \n",
       "...        ...       ...        ...        ...        ...        ...   \n",
       "4915         0         0          0          0          0          0   \n",
       "4916         0         0          0          0          0          0   \n",
       "4917         0         0          0          0          0          0   \n",
       "4918         0         0          0          0          0          0   \n",
       "4919         0         0          0          0          0          0   \n",
       "\n",
       "     Symptom_14 Symptom_15 Symptom_16 Symptom_17  \n",
       "0             0          0          0          0  \n",
       "1             0          0          0          0  \n",
       "2             0          0          0          0  \n",
       "3             0          0          0          0  \n",
       "4             0          0          0          0  \n",
       "...         ...        ...        ...        ...  \n",
       "4915          0          0          0          0  \n",
       "4916          0          0          0          0  \n",
       "4917          0          0          0          0  \n",
       "4918          0          0          0          0  \n",
       "4919          0          0          0          0  \n",
       "\n",
       "[4920 rows x 18 columns]"
      ]
     },
     "execution_count": 46,
     "metadata": {},
     "output_type": "execute_result"
    }
   ],
   "source": [
    "temp = pd.DataFrame(data1, columns=['Symptom_1', 'Symptom_2', 'Symptom_3', 'Symptom_4',\n",
    "       'Symptom_5', 'Symptom_6', 'Symptom_7', 'Symptom_8', 'Symptom_9',\n",
    "       'Symptom_10', 'Symptom_11', 'Symptom_12', 'Symptom_13', 'Symptom_14',\n",
    "       'Symptom_15', 'Symptom_16', 'Symptom_17'])\n",
    "temp = df.iloc[:, [0]].join(temp)\n",
    "temp"
   ]
  },
  {
   "cell_type": "code",
   "execution_count": 47,
   "metadata": {},
   "outputs": [],
   "source": [
    "nonNums = []\n",
    "\n",
    "for index, row in temp.iterrows():\n",
    "    if type(row['Symptom_1']) != np.int64:\n",
    "        nonNums.append(row['Symptom_1'])\n",
    "    elif type(row['Symptom_2']) != np.int64:\n",
    "        nonNums.append(row['Symptom_2'])\n",
    "    elif type(row['Symptom_3']) != np.int64:\n",
    "        nonNums.append(row['Symptom_3'])\n",
    "    elif type(row['Symptom_4']) != np.int64:\n",
    "        nonNums.append(row['Symptom_4'])\n",
    "    elif type(row['Symptom_5']) != np.int64:\n",
    "        nonNums.append(row['Symptom_5'])\n",
    "    elif type(row['Symptom_6']) != np.int64:\n",
    "        nonNums.append(row['Symptom_6'])\n",
    "    elif type(row['Symptom_7']) != np.int64:\n",
    "        nonNums.append(row['Symptom_7'])\n",
    "    elif type(row['Symptom_8']) != np.int64:\n",
    "        nonNums.append(row['Symptom_8'])\n",
    "    elif type(row['Symptom_9']) != np.int64:\n",
    "        nonNums.append(row['Symptom_9'])\n",
    "    elif type(row['Symptom_10']) != np.int64:\n",
    "        nonNums.append(row['Symptom_10'])\n",
    "    elif type(row['Symptom_11']) != np.int64:\n",
    "        nonNums.append(row['Symptom_11'])\n",
    "    elif type(row['Symptom_12']) != np.int64:\n",
    "        nonNums.append(row['Symptom_12'])\n",
    "    elif type(row['Symptom_13']) != np.int64:\n",
    "        nonNums.append(row['Symptom_13'])\n",
    "    elif type(row['Symptom_14']) != np.int64:\n",
    "        nonNums.append(row['Symptom_14'])\n",
    "    elif type(row['Symptom_15']) != np.int64:\n",
    "        nonNums.append(row['Symptom_15'])\n",
    "    elif type(row['Symptom_16']) != np.int64:\n",
    "        nonNums.append(row['Symptom_16'])\n",
    "    elif type(row['Symptom_17']) != np.int64:\n",
    "        nonNums.append(row['Symptom_17'])\n",
    "\n",
    "nonNums = np.unique(nonNums)"
   ]
  },
  {
   "cell_type": "code",
   "execution_count": 48,
   "metadata": {},
   "outputs": [],
   "source": [
    "nonNums = np.delete(nonNums, 0)"
   ]
  },
  {
   "cell_type": "code",
   "execution_count": 49,
   "metadata": {},
   "outputs": [
    {
     "data": {
      "text/plain": [
       "array(['dischromic _patches', 'foul_smell_of urine',\n",
       "       'spotting_ urination'], dtype='<U19')"
      ]
     },
     "execution_count": 49,
     "metadata": {},
     "output_type": "execute_result"
    }
   ],
   "source": [
    "nonNums"
   ]
  },
  {
   "cell_type": "code",
   "execution_count": 50,
   "metadata": {},
   "outputs": [],
   "source": [
    "indexs = []\n",
    "\n",
    "for index, row in df2.iterrows():\n",
    "    if row['Symptom'] == 'dischromic_patches' :\n",
    "        indexs.append(row['weight'])\n",
    "    elif row['Symptom'] == 'foul_smell_ofurine':\n",
    "        indexs.append(row['weight'])\n",
    "    elif row['Symptom'] == 'spotting_urination':\n",
    "        indexs.append(row['weight'])"
   ]
  },
  {
   "cell_type": "code",
   "execution_count": 51,
   "metadata": {},
   "outputs": [
    {
     "data": {
      "text/plain": [
       "[6, 5, 6]"
      ]
     },
     "execution_count": 51,
     "metadata": {},
     "output_type": "execute_result"
    }
   ],
   "source": [
    "indexs"
   ]
  },
  {
   "cell_type": "code",
   "execution_count": 52,
   "metadata": {},
   "outputs": [
    {
     "data": {
      "text/html": [
       "<div>\n",
       "<style scoped>\n",
       "    .dataframe tbody tr th:only-of-type {\n",
       "        vertical-align: middle;\n",
       "    }\n",
       "\n",
       "    .dataframe tbody tr th {\n",
       "        vertical-align: top;\n",
       "    }\n",
       "\n",
       "    .dataframe thead th {\n",
       "        text-align: right;\n",
       "    }\n",
       "</style>\n",
       "<table border=\"1\" class=\"dataframe\">\n",
       "  <thead>\n",
       "    <tr style=\"text-align: right;\">\n",
       "      <th></th>\n",
       "      <th>Disease</th>\n",
       "      <th>Symptom_1</th>\n",
       "      <th>Symptom_2</th>\n",
       "      <th>Symptom_3</th>\n",
       "      <th>Symptom_4</th>\n",
       "      <th>Symptom_5</th>\n",
       "      <th>Symptom_6</th>\n",
       "      <th>Symptom_7</th>\n",
       "      <th>Symptom_8</th>\n",
       "      <th>Symptom_9</th>\n",
       "      <th>Symptom_10</th>\n",
       "      <th>Symptom_11</th>\n",
       "      <th>Symptom_12</th>\n",
       "      <th>Symptom_13</th>\n",
       "      <th>Symptom_14</th>\n",
       "      <th>Symptom_15</th>\n",
       "      <th>Symptom_16</th>\n",
       "      <th>Symptom_17</th>\n",
       "    </tr>\n",
       "  </thead>\n",
       "  <tbody>\n",
       "    <tr>\n",
       "      <th>0</th>\n",
       "      <td>Fungal infection</td>\n",
       "      <td>1</td>\n",
       "      <td>3</td>\n",
       "      <td>4</td>\n",
       "      <td>6</td>\n",
       "      <td>0</td>\n",
       "      <td>0</td>\n",
       "      <td>0</td>\n",
       "      <td>0</td>\n",
       "      <td>0</td>\n",
       "      <td>0</td>\n",
       "      <td>0</td>\n",
       "      <td>0</td>\n",
       "      <td>0</td>\n",
       "      <td>0</td>\n",
       "      <td>0</td>\n",
       "      <td>0</td>\n",
       "      <td>0</td>\n",
       "    </tr>\n",
       "    <tr>\n",
       "      <th>1</th>\n",
       "      <td>Fungal infection</td>\n",
       "      <td>3</td>\n",
       "      <td>4</td>\n",
       "      <td>6</td>\n",
       "      <td>0</td>\n",
       "      <td>0</td>\n",
       "      <td>0</td>\n",
       "      <td>0</td>\n",
       "      <td>0</td>\n",
       "      <td>0</td>\n",
       "      <td>0</td>\n",
       "      <td>0</td>\n",
       "      <td>0</td>\n",
       "      <td>0</td>\n",
       "      <td>0</td>\n",
       "      <td>0</td>\n",
       "      <td>0</td>\n",
       "      <td>0</td>\n",
       "    </tr>\n",
       "    <tr>\n",
       "      <th>2</th>\n",
       "      <td>Fungal infection</td>\n",
       "      <td>1</td>\n",
       "      <td>4</td>\n",
       "      <td>6</td>\n",
       "      <td>0</td>\n",
       "      <td>0</td>\n",
       "      <td>0</td>\n",
       "      <td>0</td>\n",
       "      <td>0</td>\n",
       "      <td>0</td>\n",
       "      <td>0</td>\n",
       "      <td>0</td>\n",
       "      <td>0</td>\n",
       "      <td>0</td>\n",
       "      <td>0</td>\n",
       "      <td>0</td>\n",
       "      <td>0</td>\n",
       "      <td>0</td>\n",
       "    </tr>\n",
       "    <tr>\n",
       "      <th>3</th>\n",
       "      <td>Fungal infection</td>\n",
       "      <td>1</td>\n",
       "      <td>3</td>\n",
       "      <td>6</td>\n",
       "      <td>0</td>\n",
       "      <td>0</td>\n",
       "      <td>0</td>\n",
       "      <td>0</td>\n",
       "      <td>0</td>\n",
       "      <td>0</td>\n",
       "      <td>0</td>\n",
       "      <td>0</td>\n",
       "      <td>0</td>\n",
       "      <td>0</td>\n",
       "      <td>0</td>\n",
       "      <td>0</td>\n",
       "      <td>0</td>\n",
       "      <td>0</td>\n",
       "    </tr>\n",
       "    <tr>\n",
       "      <th>4</th>\n",
       "      <td>Fungal infection</td>\n",
       "      <td>1</td>\n",
       "      <td>3</td>\n",
       "      <td>4</td>\n",
       "      <td>0</td>\n",
       "      <td>0</td>\n",
       "      <td>0</td>\n",
       "      <td>0</td>\n",
       "      <td>0</td>\n",
       "      <td>0</td>\n",
       "      <td>0</td>\n",
       "      <td>0</td>\n",
       "      <td>0</td>\n",
       "      <td>0</td>\n",
       "      <td>0</td>\n",
       "      <td>0</td>\n",
       "      <td>0</td>\n",
       "      <td>0</td>\n",
       "    </tr>\n",
       "  </tbody>\n",
       "</table>\n",
       "</div>"
      ],
      "text/plain": [
       "            Disease  Symptom_1  Symptom_2  Symptom_3  Symptom_4  Symptom_5  \\\n",
       "0  Fungal infection          1          3          4          6          0   \n",
       "1  Fungal infection          3          4          6          0          0   \n",
       "2  Fungal infection          1          4          6          0          0   \n",
       "3  Fungal infection          1          3          6          0          0   \n",
       "4  Fungal infection          1          3          4          0          0   \n",
       "\n",
       "   Symptom_6  Symptom_7  Symptom_8  Symptom_9  Symptom_10  Symptom_11  \\\n",
       "0          0          0          0          0           0           0   \n",
       "1          0          0          0          0           0           0   \n",
       "2          0          0          0          0           0           0   \n",
       "3          0          0          0          0           0           0   \n",
       "4          0          0          0          0           0           0   \n",
       "\n",
       "   Symptom_12  Symptom_13  Symptom_14  Symptom_15  Symptom_16  Symptom_17  \n",
       "0           0           0           0           0           0           0  \n",
       "1           0           0           0           0           0           0  \n",
       "2           0           0           0           0           0           0  \n",
       "3           0           0           0           0           0           0  \n",
       "4           0           0           0           0           0           0  "
      ]
     },
     "execution_count": 52,
     "metadata": {},
     "output_type": "execute_result"
    }
   ],
   "source": [
    "temp = temp.replace('dischromic _patches', indexs[0])\n",
    "temp = temp.replace('foul_smell_of urine', indexs[1])\n",
    "df = temp.replace('spotting_ urination', indexs[2])\n",
    "\n",
    "df.head()"
   ]
  },
  {
   "cell_type": "markdown",
   "metadata": {},
   "source": [
    "**Extract Dependent and Independent Variable**"
   ]
  },
  {
   "cell_type": "code",
   "execution_count": 53,
   "metadata": {},
   "outputs": [
    {
     "name": "stdout",
     "output_type": "stream",
     "text": [
      "X shape:  (4920, 17)\n",
      "y shape:  (4920,)\n"
     ]
    }
   ],
   "source": [
    "X = df.iloc[:, 1:]\n",
    "y = df['Disease']\n",
    "\n",
    "print('X shape: ', X.shape)\n",
    "print('y shape: ', y.shape)"
   ]
  },
  {
   "cell_type": "code",
   "execution_count": 54,
   "metadata": {},
   "outputs": [
    {
     "data": {
      "text/html": [
       "<div>\n",
       "<style scoped>\n",
       "    .dataframe tbody tr th:only-of-type {\n",
       "        vertical-align: middle;\n",
       "    }\n",
       "\n",
       "    .dataframe tbody tr th {\n",
       "        vertical-align: top;\n",
       "    }\n",
       "\n",
       "    .dataframe thead th {\n",
       "        text-align: right;\n",
       "    }\n",
       "</style>\n",
       "<table border=\"1\" class=\"dataframe\">\n",
       "  <thead>\n",
       "    <tr style=\"text-align: right;\">\n",
       "      <th></th>\n",
       "      <th>Symptom_1</th>\n",
       "      <th>Symptom_2</th>\n",
       "      <th>Symptom_3</th>\n",
       "      <th>Symptom_4</th>\n",
       "      <th>Symptom_5</th>\n",
       "      <th>Symptom_6</th>\n",
       "      <th>Symptom_7</th>\n",
       "      <th>Symptom_8</th>\n",
       "      <th>Symptom_9</th>\n",
       "      <th>Symptom_10</th>\n",
       "      <th>Symptom_11</th>\n",
       "      <th>Symptom_12</th>\n",
       "      <th>Symptom_13</th>\n",
       "      <th>Symptom_14</th>\n",
       "      <th>Symptom_15</th>\n",
       "      <th>Symptom_16</th>\n",
       "      <th>Symptom_17</th>\n",
       "    </tr>\n",
       "  </thead>\n",
       "  <tbody>\n",
       "    <tr>\n",
       "      <th>0</th>\n",
       "      <td>1</td>\n",
       "      <td>3</td>\n",
       "      <td>4</td>\n",
       "      <td>6</td>\n",
       "      <td>0</td>\n",
       "      <td>0</td>\n",
       "      <td>0</td>\n",
       "      <td>0</td>\n",
       "      <td>0</td>\n",
       "      <td>0</td>\n",
       "      <td>0</td>\n",
       "      <td>0</td>\n",
       "      <td>0</td>\n",
       "      <td>0</td>\n",
       "      <td>0</td>\n",
       "      <td>0</td>\n",
       "      <td>0</td>\n",
       "    </tr>\n",
       "    <tr>\n",
       "      <th>1</th>\n",
       "      <td>3</td>\n",
       "      <td>4</td>\n",
       "      <td>6</td>\n",
       "      <td>0</td>\n",
       "      <td>0</td>\n",
       "      <td>0</td>\n",
       "      <td>0</td>\n",
       "      <td>0</td>\n",
       "      <td>0</td>\n",
       "      <td>0</td>\n",
       "      <td>0</td>\n",
       "      <td>0</td>\n",
       "      <td>0</td>\n",
       "      <td>0</td>\n",
       "      <td>0</td>\n",
       "      <td>0</td>\n",
       "      <td>0</td>\n",
       "    </tr>\n",
       "    <tr>\n",
       "      <th>2</th>\n",
       "      <td>1</td>\n",
       "      <td>4</td>\n",
       "      <td>6</td>\n",
       "      <td>0</td>\n",
       "      <td>0</td>\n",
       "      <td>0</td>\n",
       "      <td>0</td>\n",
       "      <td>0</td>\n",
       "      <td>0</td>\n",
       "      <td>0</td>\n",
       "      <td>0</td>\n",
       "      <td>0</td>\n",
       "      <td>0</td>\n",
       "      <td>0</td>\n",
       "      <td>0</td>\n",
       "      <td>0</td>\n",
       "      <td>0</td>\n",
       "    </tr>\n",
       "    <tr>\n",
       "      <th>3</th>\n",
       "      <td>1</td>\n",
       "      <td>3</td>\n",
       "      <td>6</td>\n",
       "      <td>0</td>\n",
       "      <td>0</td>\n",
       "      <td>0</td>\n",
       "      <td>0</td>\n",
       "      <td>0</td>\n",
       "      <td>0</td>\n",
       "      <td>0</td>\n",
       "      <td>0</td>\n",
       "      <td>0</td>\n",
       "      <td>0</td>\n",
       "      <td>0</td>\n",
       "      <td>0</td>\n",
       "      <td>0</td>\n",
       "      <td>0</td>\n",
       "    </tr>\n",
       "    <tr>\n",
       "      <th>4</th>\n",
       "      <td>1</td>\n",
       "      <td>3</td>\n",
       "      <td>4</td>\n",
       "      <td>0</td>\n",
       "      <td>0</td>\n",
       "      <td>0</td>\n",
       "      <td>0</td>\n",
       "      <td>0</td>\n",
       "      <td>0</td>\n",
       "      <td>0</td>\n",
       "      <td>0</td>\n",
       "      <td>0</td>\n",
       "      <td>0</td>\n",
       "      <td>0</td>\n",
       "      <td>0</td>\n",
       "      <td>0</td>\n",
       "      <td>0</td>\n",
       "    </tr>\n",
       "  </tbody>\n",
       "</table>\n",
       "</div>"
      ],
      "text/plain": [
       "   Symptom_1  Symptom_2  Symptom_3  Symptom_4  Symptom_5  Symptom_6  \\\n",
       "0          1          3          4          6          0          0   \n",
       "1          3          4          6          0          0          0   \n",
       "2          1          4          6          0          0          0   \n",
       "3          1          3          6          0          0          0   \n",
       "4          1          3          4          0          0          0   \n",
       "\n",
       "   Symptom_7  Symptom_8  Symptom_9  Symptom_10  Symptom_11  Symptom_12  \\\n",
       "0          0          0          0           0           0           0   \n",
       "1          0          0          0           0           0           0   \n",
       "2          0          0          0           0           0           0   \n",
       "3          0          0          0           0           0           0   \n",
       "4          0          0          0           0           0           0   \n",
       "\n",
       "   Symptom_13  Symptom_14  Symptom_15  Symptom_16  Symptom_17  \n",
       "0           0           0           0           0           0  \n",
       "1           0           0           0           0           0  \n",
       "2           0           0           0           0           0  \n",
       "3           0           0           0           0           0  \n",
       "4           0           0           0           0           0  "
      ]
     },
     "execution_count": 54,
     "metadata": {},
     "output_type": "execute_result"
    }
   ],
   "source": [
    "X.head()"
   ]
  },
  {
   "cell_type": "code",
   "execution_count": 55,
   "metadata": {},
   "outputs": [
    {
     "data": {
      "text/plain": [
       "0    Fungal infection\n",
       "1    Fungal infection\n",
       "2    Fungal infection\n",
       "3    Fungal infection\n",
       "4    Fungal infection\n",
       "Name: Disease, dtype: object"
      ]
     },
     "execution_count": 55,
     "metadata": {},
     "output_type": "execute_result"
    }
   ],
   "source": [
    "y.head()"
   ]
  },
  {
   "cell_type": "markdown",
   "metadata": {},
   "source": [
    "**Dataset Splitting**"
   ]
  },
  {
   "cell_type": "code",
   "execution_count": 56,
   "metadata": {},
   "outputs": [
    {
     "name": "stdout",
     "output_type": "stream",
     "text": [
      "X_train shape:  (3936, 17)\n",
      "X_test shape:  (984, 17)\n",
      "y_train shape:  (3936,)\n",
      "y_test shape:  (984,)\n"
     ]
    }
   ],
   "source": [
    "from sklearn.model_selection import train_test_split\n",
    "\n",
    "X_train, X_test, y_train, y_test = train_test_split(X, y, test_size=0.2, random_state=0)\n",
    "\n",
    "print('X_train shape: ', X_train.shape)\n",
    "print('X_test shape: ', X_test.shape)\n",
    "print('y_train shape: ', y_train.shape)\n",
    "print('y_test shape: ', y_test.shape)"
   ]
  },
  {
   "cell_type": "code",
   "execution_count": 57,
   "metadata": {},
   "outputs": [
    {
     "data": {
      "text/plain": [
       "KNeighborsClassifier()"
      ]
     },
     "execution_count": 57,
     "metadata": {},
     "output_type": "execute_result"
    }
   ],
   "source": [
    "from sklearn.neighbors import KNeighborsClassifier\n",
    "\n",
    "model = KNeighborsClassifier()\n",
    "model.fit(X_train, y_train)"
   ]
  },
  {
   "cell_type": "code",
   "execution_count": 58,
   "metadata": {},
   "outputs": [
    {
     "data": {
      "text/plain": [
       "RandomForestClassifier()"
      ]
     },
     "execution_count": 58,
     "metadata": {},
     "output_type": "execute_result"
    }
   ],
   "source": [
    "from sklearn.ensemble import RandomForestClassifier\n",
    "\n",
    "model2 = RandomForestClassifier()\n",
    "model2.fit(X_train, y_train)"
   ]
  },
  {
   "cell_type": "code",
   "execution_count": 59,
   "metadata": {},
   "outputs": [
    {
     "name": "stdout",
     "output_type": "stream",
     "text": [
      "KNN Algorithm\n",
      "F1-score% = 98.69580680829945\n",
      "Accuracy% = 98.6788617886179\n",
      "\n",
      "Randon Forest Algorithm\n",
      "F1-score% = 99.20592955658576\n",
      "Accuracy% = 99.1869918699187\n"
     ]
    }
   ],
   "source": [
    "from sklearn.metrics import f1_score, accuracy_score, confusion_matrix\n",
    "\n",
    "print('KNN Algorithm')\n",
    "y_pred = model.predict(X_test)\n",
    "print('F1-score% =', f1_score(y_test, y_pred, average='macro')*100)\n",
    "print('Accuracy% =', accuracy_score(y_test, y_pred)*100)\n",
    "\n",
    "print('\\nRandon Forest Algorithm')\n",
    "y_pred = model2.predict(X_test)\n",
    "print('F1-score% =', f1_score(y_test, y_pred, average='macro')*100)\n",
    "print('Accuracy% =', accuracy_score(y_test, y_pred)*100)"
   ]
  },
  {
   "cell_type": "code",
   "execution_count": 63,
   "metadata": {},
   "outputs": [
    {
     "data": {
      "image/png": "[encoded data removed]",
      "text/plain": [
       "<Figure size 432x288 with 1 Axes>"
      ]
     },
     "metadata": {
      "needs_background": "light"
     },
     "output_type": "display_data"
    }
   ],
   "source": [
    "importances = model2.feature_importances_\n",
    "std = np.std([tree.feature_importances_ for tree in model2.estimators_], axis=0)\n",
    "forest_importances = pd.Series(importances, index=X_train.columns)\n",
    "\n",
    "fig, ax = plt.subplots()\n",
    "forest_importances.plot.bar(yerr=std, ax=ax)\n",
    "ax.set_title(\"Feature importances using MDI\")\n",
    "ax.set_ylabel(\"Mean decrease in impurity\")\n",
    "fig.tight_layout()"
   ]
  },
  {
   "cell_type": "code",
   "execution_count": 64,
   "metadata": {},
   "outputs": [],
   "source": [
    "symptom_temp = [1, 4, 3, 3, 0, 0, 0, 0, 0, 0, 0, 0, 0, 0, 0, 0, 0]\n",
    "disease = model2.predict([symptom_temp])"
   ]
  },
  {
   "cell_type": "code",
   "execution_count": 65,
   "metadata": {},
   "outputs": [
    {
     "data": {
      "text/plain": [
       "'Fungal infection'"
      ]
     },
     "execution_count": 65,
     "metadata": {},
     "output_type": "execute_result"
    }
   ],
   "source": [
    "disease[0]"
   ]
  },
  {
   "cell_type": "code",
   "execution_count": null,
   "metadata": {},
   "outputs": [],
   "source": []
  }
 ],
 "metadata": {
  "colab": {
   "collapsed_sections": [],
   "name": "Disease-Prediction-EDA.ipynb",
   "provenance": []
  },
  "kernelspec": {
   "display_name": "Python 3 (ipykernel)",
   "language": "python",
   "name": "python3"
  },
  "language_info": {
   "codemirror_mode": {
    "name": "ipython",
    "version": 3
   },
   "file_extension": ".py",
   "mimetype": "text/x-python",
   "name": "python",
   "nbconvert_exporter": "python",
   "pygments_lexer": "ipython3",
   "version": "3.9.7"
  }
 },
 "nbformat": 4,
 "nbformat_minor": 1
}
